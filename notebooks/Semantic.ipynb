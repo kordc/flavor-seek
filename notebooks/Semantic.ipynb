{
 "nbformat": 4,
 "nbformat_minor": 0,
 "metadata": {
  "colab": {
   "provenance": [],
   "gpuType": "T4"
  },
  "kernelspec": {
   "name": "python3",
   "language": "python",
   "display_name": "Python 3 (ipykernel)"
  },
  "language_info": {
   "name": "python"
  },
  "accelerator": "GPU"
 },
 "cells": [
  {
   "cell_type": "code",
   "source": [
    "# https://huggingface.co/Hum-Works/lodestone-base-4096-v1\n",
    "# https://huggingface.co/Muennighoff/SGPT-125M-weightedmean-nli-bitfit\n",
    "# https://huggingface.co/BAAI/bge-large-en-v1.5\n",
    "# https://huggingface.co/andersonbcdefg/bge-small-4096\n",
    "# jinaai/jina-embeddings-v2-small-en\n",
    "# 'andersonbcdefg/bge-small-4096'"
   ],
   "metadata": {
    "id": "_b1ZYFnzs_Lq",
    "ExecuteTime": {
     "end_time": "2023-11-20T12:52:01.378331950Z",
     "start_time": "2023-11-20T12:52:01.372360509Z"
    }
   },
   "execution_count": 5,
   "outputs": []
  },
  {
   "cell_type": "code",
   "execution_count": 6,
   "outputs": [],
   "source": [
    "# !pip install transformers qdrant-client sentence-transformers"
   ],
   "metadata": {
    "collapsed": false,
    "ExecuteTime": {
     "end_time": "2023-11-20T12:52:01.554675856Z",
     "start_time": "2023-11-20T12:52:01.542395177Z"
    }
   }
  },
  {
   "cell_type": "code",
   "execution_count": 7,
   "outputs": [],
   "source": [
    "import qdrant_client\n",
    "import numpy as np\n",
    "from numpy.linalg import norm\n",
    "from transformers import AutoModel\n",
    "from numpy.linalg import norm\n",
    "import torch\n",
    "from qdrant_client.http.models import Distance, VectorParams, PointStruct\n",
    "import pandas as pd\n",
    "from tqdm import tqdm\n",
    "import gc\n",
    "from sentence_transformers import SentenceTransformer\n",
    "import torch\n",
    "import subprocess"
   ],
   "metadata": {
    "collapsed": false,
    "ExecuteTime": {
     "end_time": "2023-11-20T12:52:01.745996351Z",
     "start_time": "2023-11-20T12:52:01.732625898Z"
    }
   }
  },
  {
   "cell_type": "code",
   "source": [
    "model_name = 'jinaai/jina-embeddings-v2-small-en'\n",
    "qdrant_path = \"/tmp/recipe_store\"\n",
    "collection_name = \"recipies\"\n",
    "batch_size=10\n",
    "cos_sim = lambda a,b: (a @ b.T) / ((a)*norm(b))"
   ],
   "metadata": {
    "id": "m3LeqAMuE9Z8",
    "ExecuteTime": {
     "end_time": "2023-11-20T12:52:02.050995033Z",
     "start_time": "2023-11-20T12:52:02.040911514Z"
    }
   },
   "execution_count": 8,
   "outputs": []
  },
  {
   "cell_type": "code",
   "source": [
    "def preprocess(df, nrows=None):\n",
    "    df['content'] = \"Name:\\n\" + df['name'] + '\\nDescription:\\n' + df['description'] + '\\nSteps:\\n' + df['steps']\n",
    "    df['id'] = df.index\n",
    "    df.dropna(subset=['content'], inplace=True)\n",
    "    if nrows is not None:\n",
    "      df = df[:nrows]\n",
    "    return df"
   ],
   "metadata": {
    "id": "ssDHM9JaWY-R",
    "ExecuteTime": {
     "end_time": "2023-11-20T12:52:02.353109542Z",
     "start_time": "2023-11-20T12:52:02.340510327Z"
    }
   },
   "execution_count": 9,
   "outputs": []
  },
  {
   "cell_type": "code",
   "execution_count": 10,
   "outputs": [
    {
     "data": {
      "text/plain": "226657"
     },
     "execution_count": 10,
     "metadata": {},
     "output_type": "execute_result"
    }
   ],
   "source": [
    "df = pd.read_csv(\"../../data/RAW_recipes.csv\")\n",
    "df = preprocess(df, nrows=None)\n",
    "len(df)"
   ],
   "metadata": {
    "collapsed": false,
    "ExecuteTime": {
     "end_time": "2023-11-20T12:52:06.896395135Z",
     "start_time": "2023-11-20T12:52:03.025975628Z"
    }
   }
  },
  {
   "cell_type": "code",
   "execution_count": 11,
   "outputs": [],
   "source": [
    "def get_model():\n",
    "  model = AutoModel.from_pretrained('jinaai/jina-embeddings-v2-small-en', trust_remote_code=True)\n",
    "  device = torch.device(\"cuda\" if torch.cuda.is_available() else \"cpu\")\n",
    "  model = model.to(device)\n",
    "  return model"
   ],
   "metadata": {
    "collapsed": false,
    "ExecuteTime": {
     "end_time": "2023-11-20T12:52:11.279398745Z",
     "start_time": "2023-11-20T12:52:11.269960152Z"
    }
   }
  },
  {
   "cell_type": "code",
   "execution_count": 14,
   "outputs": [
    {
     "name": "stdout",
     "output_type": "stream",
     "text": [
      "[ 1.04633447e+03 -1.80354118e+01 -6.82214355e+01  1.61469173e+01\n",
      "  3.68936584e+02 -3.52913551e+01  5.83617744e+01  3.11420155e+01\n",
      " -1.87364563e+02 -2.45083313e+01 -1.81096100e+02 -1.14282532e+02\n",
      " -6.94248962e+01 -1.15028372e+01  1.68329277e+01 -1.69776440e+01\n",
      " -3.42685814e+01 -2.69710007e+01 -1.77627296e+01 -5.66288185e+01\n",
      " -3.88246498e+01 -1.89257336e+01  2.77676563e+01 -5.47682152e+01\n",
      "  1.33862705e+01 -1.15945520e+01 -1.38271370e+01  4.09063492e+01\n",
      "  2.01984959e+01  1.15810061e+01 -1.50290709e+01  1.84479599e+02\n",
      " -1.46108618e+01  9.90531158e+01 -2.53095150e+01  3.05182781e+01\n",
      "  3.69845543e+01  3.22625580e+01 -4.86448860e+01 -4.04112701e+01\n",
      " -2.45597305e+01  1.72922516e+01  2.03023205e+01  1.85253067e+01\n",
      " -9.70133209e+00 -1.52091174e+03 -9.54076958e+00  5.83904839e+01\n",
      "  3.56976166e+01  2.02787216e+02 -1.29416618e+01  2.15052605e+01\n",
      " -1.23727083e+01  5.86852455e+01  1.21544724e+02  2.75831165e+01\n",
      " -4.57627525e+01  3.82342339e+01 -2.59543037e+01  9.25773087e+01\n",
      "  2.34367523e+01  1.81031780e+01 -1.55597849e+01  1.54598293e+01\n",
      " -3.01755905e+01 -1.18669052e+01 -5.37764587e+01 -5.42993240e+01\n",
      " -4.81927223e+01  2.62613125e+01 -1.44548502e+01 -2.34241047e+01\n",
      "  1.28403177e+01 -4.12516747e+01  1.87998486e+01 -1.78464432e+01\n",
      " -5.59506531e+01  1.19797440e+01  5.36131653e+02 -8.37172604e+00\n",
      "  9.39862061e+01  8.87866135e+01 -2.01127930e+01  2.51034603e+01\n",
      " -3.32316406e+02 -1.91823559e+01 -6.83645859e+01  1.45432768e+01\n",
      "  2.28022614e+01 -3.33582230e+01 -3.60289421e+01  2.38473801e+02\n",
      "  1.00788055e+02 -1.44557772e+01 -1.76291904e+01 -4.43606415e+01\n",
      "  5.33252869e+01 -1.53218848e+03 -5.04249634e+02  9.54045868e+01\n",
      "  1.36513166e+01  1.49329681e+01  1.18066978e+01 -1.54757433e+01\n",
      "  5.07947235e+01  1.21260128e+01 -2.23392982e+01 -2.95173168e+01\n",
      " -8.03719807e+00 -1.74979095e+01 -1.91453705e+01 -1.65956177e+02\n",
      " -2.09680843e+01  3.84510193e+01 -1.09241657e+01  4.24432182e+01\n",
      "  1.80270729e+01 -2.07489471e+01 -6.72435760e+01  4.40172310e+01\n",
      "  4.65681992e+01 -4.17976151e+01 -4.18382797e+01  1.29984245e+01\n",
      "  2.24388714e+01  1.62413597e+01 -1.45219069e+01  1.60622921e+01\n",
      "  4.78519135e+01  5.08654022e+01 -2.86908321e+01  5.85026741e+01\n",
      "  1.87310257e+02  8.20719833e+01  7.46417522e+00 -2.22951870e+01\n",
      "  3.30748596e+01 -2.62514553e+01 -2.38238888e+01  2.30660019e+01\n",
      " -1.24658632e+01  6.83992004e+01  1.05470009e+01 -1.19691017e+02\n",
      " -5.03547134e+01  9.92539673e+01  1.32368422e+01  3.75369797e+01\n",
      " -8.61099014e+01  4.84651718e+01 -1.29655792e+02  1.64122925e+01\n",
      " -1.60339165e+01  3.91544037e+01  4.05299225e+01  1.36841850e+01\n",
      " -1.08446817e+01  1.62839966e+01  2.73319683e+01 -2.89868431e+01\n",
      " -1.37785921e+01  2.90578537e+01 -4.64291039e+01 -1.10444956e+01\n",
      " -2.65367451e+01 -2.05828209e+01  2.09484177e+01  2.86443138e+01\n",
      " -2.38770542e+01 -2.50104637e+01  3.21892166e+01 -6.75048981e+01\n",
      " -1.14345675e+01 -2.23641701e+01 -1.55537119e+01 -3.13940506e+01\n",
      " -1.35115595e+01 -2.88029881e+01 -6.68153610e+01 -1.44610310e+01\n",
      "  3.33873482e+01 -1.64238911e+01 -1.83183575e+01  2.77182865e+01\n",
      "  1.79313123e+03 -2.51611023e+01  1.36691351e+01 -2.19511814e+01\n",
      "  2.29208527e+01 -1.52176294e+01  2.12689835e+02 -1.63273888e+01\n",
      " -4.43271667e+02 -5.63826218e+01 -6.05629349e+01  5.77562332e+01\n",
      " -2.98816681e+01  2.65775299e+01  4.13445587e+01  2.35930233e+01\n",
      " -3.67869530e+01  2.73599586e+01 -2.13079510e+01  1.55187798e+01\n",
      " -1.99186401e+01  1.31559029e+01  2.34200455e+02 -3.31042252e+01\n",
      " -1.09844475e+01 -5.18809319e+01  5.02387085e+01 -3.07366211e+02\n",
      "  1.27865124e+01  4.83128853e+01  7.97263641e+01  3.31568489e+01\n",
      "  1.95585327e+02 -3.78166008e+01  1.21629158e+02 -9.46391373e+01\n",
      "  1.17047203e+02  4.96339417e+01 -4.18126335e+01  1.98324013e+01\n",
      "  7.05240555e+01 -2.34988728e+01  2.81612225e+01  1.46778564e+01\n",
      " -1.95000534e+01  8.49189529e+01  2.17845936e+01 -1.83487129e+01\n",
      " -1.92669411e+01  3.28952332e+01 -4.48773842e+01 -4.23438721e+01\n",
      " -1.83338470e+01  3.92768860e+01 -2.26179657e+01  2.05370234e+04\n",
      " -5.04539566e+01  2.34459476e+01  3.16555939e+01  1.47500248e+01\n",
      "  1.04706902e+02  2.83167686e+01  2.11754513e+01 -4.63057289e+01\n",
      " -3.60198303e+02  1.15205727e+01 -1.69503204e+02 -5.65155640e+01\n",
      " -1.21366301e+01 -9.21747589e+00 -2.39882660e+02 -1.17960005e+01\n",
      "  7.71844711e+01  8.99619961e+00 -6.98652029e+00 -3.06043816e+01\n",
      "  5.81450882e+01  4.50675468e+01 -1.82454395e+01  2.20725193e+01\n",
      " -7.27379822e+02 -7.37317657e+01 -1.48888893e+01 -6.41202164e+01\n",
      "  2.02719250e+01  3.05323048e+01  3.38936806e+01  3.07419720e+01\n",
      "  2.05923462e+01 -8.18142319e+01 -9.38491821e+00 -5.85992012e+01\n",
      "  1.97664375e+01  1.45603043e+02  1.34680195e+01  1.68490204e+02\n",
      " -1.58391390e+01  3.77113007e+02  2.05325302e+02 -2.46550846e+01\n",
      "  6.37719231e+01  4.20180855e+01  4.53241196e+01  2.84055157e+01\n",
      "  1.51171741e+01  8.67406006e+01  2.15876083e+01 -1.70649452e+01\n",
      " -4.81918068e+01  4.26763496e+01 -6.17024803e+01  2.57153244e+01\n",
      "  2.16818447e+01  8.20002289e+01 -4.54726791e+01  4.88857155e+01\n",
      "  1.30441189e+01  1.25182333e+01 -1.81983795e+01  7.81482925e+01\n",
      " -1.17247208e+02 -1.88052063e+01 -4.29369278e+01  1.26049133e+02\n",
      " -5.67819252e+01 -1.54235931e+02  1.46715603e+01 -6.19573021e+01\n",
      " -8.21553802e+01 -2.14551563e+01  1.69638405e+01 -6.36760712e+01\n",
      "  2.35048637e+01 -6.27361107e+01 -9.94279785e+01 -3.71087990e+01\n",
      " -1.11193075e+01 -2.57533379e+01  1.83835011e+01  7.05576324e+01\n",
      "  1.98755665e+01  1.56617432e+01 -3.54455750e+02 -3.74917984e+01\n",
      " -2.48095722e+01  4.53416023e+01 -1.10494759e+02 -3.47364540e+01\n",
      " -3.98931541e+01 -1.72180843e+01 -5.53098526e+01  1.77860886e+02\n",
      " -1.32505436e+01 -5.77938347e+01  1.36850845e+02 -4.89647980e+01\n",
      "  4.02283745e+01  3.42061234e+01  5.74796753e+01  1.90680733e+01\n",
      "  9.57568054e+01 -2.75228195e+01 -6.57260818e+01 -4.82498932e+01\n",
      " -2.22221947e+01  1.30034256e+02  9.74739304e+01 -2.12130375e+01\n",
      " -2.11056576e+01 -2.33310623e+01 -1.49787884e+01 -1.95091370e+02\n",
      "  1.05305244e+02  1.26426559e+02 -1.49194937e+01  6.84338045e+00\n",
      " -3.13703690e+01 -1.49915714e+01 -6.54703598e+01  1.86675682e+01\n",
      "  3.97383423e+01 -2.83763275e+01  3.94402962e+01 -3.44082260e+01\n",
      "  1.72235737e+01  2.50235481e+01  1.67006741e+01  2.72173958e+01\n",
      "  1.23639603e+02 -2.15837383e+01  2.85039082e+01 -2.29042168e+01\n",
      "  2.42434444e+01 -4.88459702e+01  5.93391609e+01  6.59689331e+01\n",
      " -6.09349747e+01  1.76507912e+01  1.79201317e+01 -1.45672207e+01\n",
      " -2.25026321e+01  2.16956749e+01  2.87622375e+01  1.51069279e+01\n",
      "  2.85945072e+01 -8.48615723e+01  2.04581509e+01 -9.66672745e+01\n",
      " -1.74156303e+01  4.02363052e+01  2.90744553e+01 -2.96672878e+01\n",
      " -3.93282288e+02  1.33355885e+01 -1.12579980e+03  1.98946705e+01\n",
      " -4.28821030e+01  1.83666901e+02 -1.30317841e+01 -1.97629833e+01\n",
      "  2.26139565e+01 -1.26252640e+02 -2.61497059e+01 -8.39263000e+01\n",
      " -5.80859192e+02  7.67272491e+01  3.32989998e+01  6.25214691e+01\n",
      "  4.10116463e+01  1.41257172e+02  1.01019371e+02 -1.51224556e+01\n",
      " -1.86050339e+01 -8.08912964e+01  8.01260071e+01 -4.19513123e+02\n",
      "  1.74062138e+01  2.29737377e+01 -7.92037582e+01  3.81548004e+01\n",
      " -9.15677567e+01 -8.09068680e+01  6.05809708e+01 -6.31105042e+01\n",
      "  1.71577835e+01  1.17596483e+01  4.30248108e+01 -2.26226196e+01\n",
      "  6.47261887e+01 -3.63066139e+01 -1.00394241e+02  1.46384020e+01\n",
      "  1.71865826e+01 -6.17960358e+01  1.96683731e+01 -6.24177780e+01\n",
      "  7.29716921e+00 -8.05608654e+00  6.83239212e+01  1.03204300e+02\n",
      "  6.93337326e+01  1.30939016e+01  1.45399466e+01 -1.57525330e+01\n",
      " -9.51733208e+00  1.50513716e+01  1.76483631e+01  1.91165733e+01\n",
      " -1.57057266e+01 -3.15011826e+01 -2.02773724e+01  1.69634609e+01\n",
      " -4.55044136e+01 -1.34933805e+01  2.10635948e+01 -1.22307991e+02\n",
      "  3.02683525e+01 -1.04194374e+02 -3.58419914e+01  4.16698532e+01\n",
      "  1.27072830e+02  1.53865036e+02  2.28392773e+01 -4.69127007e+01\n",
      "  1.06163155e+02  2.24154987e+01 -1.16208181e+01 -2.52183495e+01\n",
      "  7.67073441e+01  1.42898731e+01  9.67401981e+00  5.18098602e+01\n",
      "  5.64962807e+01  3.07135220e+01 -1.97005329e+01  3.95311699e+01\n",
      " -9.64538574e+00  5.83268127e+01 -2.20483723e+01 -1.18998041e+01\n",
      " -1.95570393e+01  8.98082123e+01  5.01199379e+01  1.44031677e+02\n",
      "  3.15013809e+01  1.97654114e+01 -1.66357155e+01 -1.89820232e+01\n",
      " -4.53362885e+01 -2.93914299e+01 -2.10592899e+01  1.93084793e+01\n",
      "  3.88961334e+01 -1.04444641e+02  1.84962502e+01  1.93560524e+01\n",
      "  1.62444439e+01 -1.07078733e+01 -1.57622116e+02 -6.12281380e+01\n",
      " -6.36289444e+01  1.28678741e+01 -8.47370834e+01 -1.54143944e+01\n",
      " -1.24259748e+01  1.88951225e+01 -7.15610886e+01 -8.73527069e+01]\n",
      "recipies 512\n"
     ]
    }
   ],
   "source": [
    "with torch.no_grad():\n",
    "  model = get_model()\n",
    "  embeddings = model.encode(['How is the weather today?', 'What is the current weather like today?'])\n",
    "  print(cos_sim(embeddings[0], embeddings[1]))\n",
    "  vector_size = len(model.encode(\"Encode\"))\n",
    "  print(collection_name, vector_size)\n",
    "  del model\n",
    "  torch.cuda.empty_cache()"
   ],
   "metadata": {
    "collapsed": false,
    "ExecuteTime": {
     "end_time": "2023-11-20T12:52:17.722166899Z",
     "start_time": "2023-11-20T12:52:14.660272790Z"
    }
   }
  },
  {
   "cell_type": "code",
   "execution_count": 15,
   "outputs": [],
   "source": [
    "client = qdrant_client.QdrantClient(\n",
    "    path=qdrant_path\n",
    ")"
   ],
   "metadata": {
    "collapsed": false,
    "ExecuteTime": {
     "end_time": "2023-11-20T12:52:24.851917134Z",
     "start_time": "2023-11-20T12:52:24.809009435Z"
    }
   }
  },
  {
   "cell_type": "code",
   "execution_count": 16,
   "outputs": [
    {
     "data": {
      "text/plain": "True"
     },
     "execution_count": 16,
     "metadata": {},
     "output_type": "execute_result"
    }
   ],
   "source": [
    "client.delete_collection(collection_name=collection_name)\n",
    "client.create_collection(\n",
    "    collection_name=collection_name,\n",
    "    vectors_config=VectorParams(size=512, distance=Distance.COSINE),\n",
    ")"
   ],
   "metadata": {
    "collapsed": false,
    "ExecuteTime": {
     "end_time": "2023-11-20T12:52:28.668044254Z",
     "start_time": "2023-11-20T12:52:28.642509352Z"
    }
   }
  },
  {
   "cell_type": "code",
   "source": [
    "def batchify(to_batch, batch_size):\n",
    "    for i in range(0, len(to_batch), batch_size):\n",
    "        yield to_batch[i:i + batch_size]"
   ],
   "metadata": {
    "id": "SObEm9C8a0fs",
    "ExecuteTime": {
     "end_time": "2023-11-20T12:52:33.368675472Z",
     "start_time": "2023-11-20T12:52:33.351856038Z"
    }
   },
   "execution_count": 17,
   "outputs": []
  },
  {
   "cell_type": "code",
   "source": [
    "model = get_model()\n",
    "def upload(df):\n",
    "  with torch.no_grad():\n",
    "    texts = df['content'].to_list()\n",
    "    embeddings = model.encode(texts).tolist()\n",
    "    payloads = df.to_dict(orient='records')\n",
    "    points = [PointStruct(id=payload['id'], vector=emb, payload=payload) for emb, payload in zip(embeddings, payloads)]\n",
    "    client.upsert(\n",
    "      collection_name=collection_name,\n",
    "      wait=True,\n",
    "      points=points\n",
    "    )\n",
    "    # del model\n",
    "  del texts\n",
    "  del embeddings\n",
    "  del payloads\n",
    "  del points\n",
    "  gc.collect()\n",
    "  torch.cuda.empty_cache()\n",
    "  gc.collect()\n"
   ],
   "metadata": {
    "id": "_2VNiWYoarc_",
    "ExecuteTime": {
     "end_time": "2023-11-20T12:52:40.723228938Z",
     "start_time": "2023-11-20T12:52:38.738333520Z"
    }
   },
   "execution_count": 18,
   "outputs": []
  },
  {
   "cell_type": "code",
   "source": [
    "batch_size = 1\n",
    "for batch_df in tqdm(batchify(df[:10000], batch_size), total=len(df)//batch_size):\n",
    "  upload(batch_df)"
   ],
   "metadata": {
    "colab": {
     "base_uri": "https://localhost:8080/",
     "height": 477
    },
    "id": "PYz5GzozX0qe",
    "outputId": "7bf03e21-0d73-43e3-95d3-1e32fb15dff7",
    "ExecuteTime": {
     "end_time": "2023-11-20T13:30:06.633752014Z",
     "start_time": "2023-11-20T12:52:46.275881792Z"
    }
   },
   "execution_count": 19,
   "outputs": [
    {
     "name": "stderr",
     "output_type": "stream",
     "text": [
      "  4%|▍         | 10000/226657 [37:20<13:28:58,  4.46it/s]\n"
     ]
    }
   ]
  },
  {
   "cell_type": "code",
   "source": [
    "def search(query):\n",
    "  search_result = client.search(\n",
    "      collection_name=collection_name, query_vector=model.encode(query), limit=5\n",
    "  )\n",
    "  return [e.payload['name']+ '\\n'+ e.payload['description'] for e in search_result]"
   ],
   "metadata": {
    "id": "FBpiQHQHS3ak",
    "ExecuteTime": {
     "end_time": "2023-11-20T13:59:50.024131700Z",
     "start_time": "2023-11-20T13:59:49.939168390Z"
    }
   },
   "execution_count": 22,
   "outputs": []
  },
  {
   "cell_type": "code",
   "source": [
    "for result in search(\"almond milk  vegan  raw  gluten free\"):\n",
    "  print(result)"
   ],
   "metadata": {
    "id": "E8pw9mvTTjqL",
    "ExecuteTime": {
     "end_time": "2023-11-20T15:04:49.084377728Z",
     "start_time": "2023-11-20T15:04:49.049211377Z"
    }
   },
   "execution_count": 32,
   "outputs": [
    {
     "name": "stdout",
     "output_type": "stream",
     "text": [
      "almond milk  vegan  raw  gluten free\n",
      "nice and creamy. i tweaked recipe #174601 to be vegan although if you aren't vegan then that one is great on its own masha allah. this is also an algerian beverage!!\n",
      "amazing almond milk\n",
      "from the cookbook called \"how it all vegan\".\n",
      "almond shake paleo and gluten free\n",
      "this recipe came from cookingchanneltv.com by bal arneson. i changed it up a little to be paleo friendly.\n",
      "almond custard\n",
      "a simple dessert custard. serve with some fresh fruit or canned.  can be made suitable for a gluten-free diet by ensuring the cornflour/cornstarch used is gluten-free. ready in less than 10 minutes and can be served warm or cold as desired\n",
      "almond vanilla pudding\n",
      "really easy,  vegan pudding :) yummy!\n"
     ]
    }
   ]
  },
  {
   "cell_type": "code",
   "source": [],
   "metadata": {
    "id": "YxHCj9vk3BtG",
    "ExecuteTime": {
     "start_time": "2023-11-20T11:50:18.897420781Z"
    }
   },
   "execution_count": null,
   "outputs": []
  }
 ]
}
